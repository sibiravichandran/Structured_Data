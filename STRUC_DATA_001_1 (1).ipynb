{
  "nbformat": 4,
  "nbformat_minor": 0,
  "metadata": {
    "colab": {
      "provenance": []
    },
    "kernelspec": {
      "name": "python3",
      "display_name": "Python 3"
    },
    "language_info": {
      "name": "python"
    },
    "widgets": {
      "application/vnd.jupyter.widget-state+json": {
        "4b272abe05d6406dadf3d212a357d363": {
          "model_module": "@jupyter-widgets/controls",
          "model_name": "HBoxModel",
          "model_module_version": "1.5.0",
          "state": {
            "_dom_classes": [],
            "_model_module": "@jupyter-widgets/controls",
            "_model_module_version": "1.5.0",
            "_model_name": "HBoxModel",
            "_view_count": null,
            "_view_module": "@jupyter-widgets/controls",
            "_view_module_version": "1.5.0",
            "_view_name": "HBoxView",
            "box_style": "",
            "children": [
              "IPY_MODEL_cae04f03e23549f3976834d9ce679521",
              "IPY_MODEL_664176aac14644ffa4ff5641e8967b12",
              "IPY_MODEL_bf882f4bbb23444daad98dfbf4ffec81"
            ],
            "layout": "IPY_MODEL_ec96f0fc3e1c4ff9959b03e9539f32f1"
          }
        },
        "cae04f03e23549f3976834d9ce679521": {
          "model_module": "@jupyter-widgets/controls",
          "model_name": "HTMLModel",
          "model_module_version": "1.5.0",
          "state": {
            "_dom_classes": [],
            "_model_module": "@jupyter-widgets/controls",
            "_model_module_version": "1.5.0",
            "_model_name": "HTMLModel",
            "_view_count": null,
            "_view_module": "@jupyter-widgets/controls",
            "_view_module_version": "1.5.0",
            "_view_name": "HTMLView",
            "description": "",
            "description_tooltip": null,
            "layout": "IPY_MODEL_85ab1d169c974312b879d3a4ed5c1e8d",
            "placeholder": "​",
            "style": "IPY_MODEL_15f66e2cc4e142bb8904a56743812550",
            "value": " 78%"
          }
        },
        "664176aac14644ffa4ff5641e8967b12": {
          "model_module": "@jupyter-widgets/controls",
          "model_name": "FloatProgressModel",
          "model_module_version": "1.5.0",
          "state": {
            "_dom_classes": [],
            "_model_module": "@jupyter-widgets/controls",
            "_model_module_version": "1.5.0",
            "_model_name": "FloatProgressModel",
            "_view_count": null,
            "_view_module": "@jupyter-widgets/controls",
            "_view_module_version": "1.5.0",
            "_view_name": "ProgressView",
            "bar_style": "",
            "description": "",
            "description_tooltip": null,
            "layout": "IPY_MODEL_267848fba377403e8d58370fb203e6db",
            "max": 9374,
            "min": 0,
            "orientation": "horizontal",
            "style": "IPY_MODEL_1124f41513324be899fc3eccbd5493dc",
            "value": 7300
          }
        },
        "bf882f4bbb23444daad98dfbf4ffec81": {
          "model_module": "@jupyter-widgets/controls",
          "model_name": "HTMLModel",
          "model_module_version": "1.5.0",
          "state": {
            "_dom_classes": [],
            "_model_module": "@jupyter-widgets/controls",
            "_model_module_version": "1.5.0",
            "_model_name": "HTMLModel",
            "_view_count": null,
            "_view_module": "@jupyter-widgets/controls",
            "_view_module_version": "1.5.0",
            "_view_name": "HTMLView",
            "description": "",
            "description_tooltip": null,
            "layout": "IPY_MODEL_2b54cf53fd70468f98df2969ca9e0bdd",
            "placeholder": "​",
            "style": "IPY_MODEL_119593f2ff29442c83f4701faa20f771",
            "value": " 7300/9374 [35:03&lt;13:23,  2.58it/s]"
          }
        },
        "ec96f0fc3e1c4ff9959b03e9539f32f1": {
          "model_module": "@jupyter-widgets/base",
          "model_name": "LayoutModel",
          "model_module_version": "1.2.0",
          "state": {
            "_model_module": "@jupyter-widgets/base",
            "_model_module_version": "1.2.0",
            "_model_name": "LayoutModel",
            "_view_count": null,
            "_view_module": "@jupyter-widgets/base",
            "_view_module_version": "1.2.0",
            "_view_name": "LayoutView",
            "align_content": null,
            "align_items": null,
            "align_self": null,
            "border": null,
            "bottom": null,
            "display": null,
            "flex": null,
            "flex_flow": null,
            "grid_area": null,
            "grid_auto_columns": null,
            "grid_auto_flow": null,
            "grid_auto_rows": null,
            "grid_column": null,
            "grid_gap": null,
            "grid_row": null,
            "grid_template_areas": null,
            "grid_template_columns": null,
            "grid_template_rows": null,
            "height": null,
            "justify_content": null,
            "justify_items": null,
            "left": null,
            "margin": null,
            "max_height": null,
            "max_width": null,
            "min_height": null,
            "min_width": null,
            "object_fit": null,
            "object_position": null,
            "order": null,
            "overflow": null,
            "overflow_x": null,
            "overflow_y": null,
            "padding": null,
            "right": null,
            "top": null,
            "visibility": null,
            "width": null
          }
        },
        "85ab1d169c974312b879d3a4ed5c1e8d": {
          "model_module": "@jupyter-widgets/base",
          "model_name": "LayoutModel",
          "model_module_version": "1.2.0",
          "state": {
            "_model_module": "@jupyter-widgets/base",
            "_model_module_version": "1.2.0",
            "_model_name": "LayoutModel",
            "_view_count": null,
            "_view_module": "@jupyter-widgets/base",
            "_view_module_version": "1.2.0",
            "_view_name": "LayoutView",
            "align_content": null,
            "align_items": null,
            "align_self": null,
            "border": null,
            "bottom": null,
            "display": null,
            "flex": null,
            "flex_flow": null,
            "grid_area": null,
            "grid_auto_columns": null,
            "grid_auto_flow": null,
            "grid_auto_rows": null,
            "grid_column": null,
            "grid_gap": null,
            "grid_row": null,
            "grid_template_areas": null,
            "grid_template_columns": null,
            "grid_template_rows": null,
            "height": null,
            "justify_content": null,
            "justify_items": null,
            "left": null,
            "margin": null,
            "max_height": null,
            "max_width": null,
            "min_height": null,
            "min_width": null,
            "object_fit": null,
            "object_position": null,
            "order": null,
            "overflow": null,
            "overflow_x": null,
            "overflow_y": null,
            "padding": null,
            "right": null,
            "top": null,
            "visibility": null,
            "width": null
          }
        },
        "15f66e2cc4e142bb8904a56743812550": {
          "model_module": "@jupyter-widgets/controls",
          "model_name": "DescriptionStyleModel",
          "model_module_version": "1.5.0",
          "state": {
            "_model_module": "@jupyter-widgets/controls",
            "_model_module_version": "1.5.0",
            "_model_name": "DescriptionStyleModel",
            "_view_count": null,
            "_view_module": "@jupyter-widgets/base",
            "_view_module_version": "1.2.0",
            "_view_name": "StyleView",
            "description_width": ""
          }
        },
        "267848fba377403e8d58370fb203e6db": {
          "model_module": "@jupyter-widgets/base",
          "model_name": "LayoutModel",
          "model_module_version": "1.2.0",
          "state": {
            "_model_module": "@jupyter-widgets/base",
            "_model_module_version": "1.2.0",
            "_model_name": "LayoutModel",
            "_view_count": null,
            "_view_module": "@jupyter-widgets/base",
            "_view_module_version": "1.2.0",
            "_view_name": "LayoutView",
            "align_content": null,
            "align_items": null,
            "align_self": null,
            "border": null,
            "bottom": null,
            "display": null,
            "flex": null,
            "flex_flow": null,
            "grid_area": null,
            "grid_auto_columns": null,
            "grid_auto_flow": null,
            "grid_auto_rows": null,
            "grid_column": null,
            "grid_gap": null,
            "grid_row": null,
            "grid_template_areas": null,
            "grid_template_columns": null,
            "grid_template_rows": null,
            "height": null,
            "justify_content": null,
            "justify_items": null,
            "left": null,
            "margin": null,
            "max_height": null,
            "max_width": null,
            "min_height": null,
            "min_width": null,
            "object_fit": null,
            "object_position": null,
            "order": null,
            "overflow": null,
            "overflow_x": null,
            "overflow_y": null,
            "padding": null,
            "right": null,
            "top": null,
            "visibility": null,
            "width": null
          }
        },
        "1124f41513324be899fc3eccbd5493dc": {
          "model_module": "@jupyter-widgets/controls",
          "model_name": "ProgressStyleModel",
          "model_module_version": "1.5.0",
          "state": {
            "_model_module": "@jupyter-widgets/controls",
            "_model_module_version": "1.5.0",
            "_model_name": "ProgressStyleModel",
            "_view_count": null,
            "_view_module": "@jupyter-widgets/base",
            "_view_module_version": "1.2.0",
            "_view_name": "StyleView",
            "bar_color": null,
            "description_width": ""
          }
        },
        "2b54cf53fd70468f98df2969ca9e0bdd": {
          "model_module": "@jupyter-widgets/base",
          "model_name": "LayoutModel",
          "model_module_version": "1.2.0",
          "state": {
            "_model_module": "@jupyter-widgets/base",
            "_model_module_version": "1.2.0",
            "_model_name": "LayoutModel",
            "_view_count": null,
            "_view_module": "@jupyter-widgets/base",
            "_view_module_version": "1.2.0",
            "_view_name": "LayoutView",
            "align_content": null,
            "align_items": null,
            "align_self": null,
            "border": null,
            "bottom": null,
            "display": null,
            "flex": null,
            "flex_flow": null,
            "grid_area": null,
            "grid_auto_columns": null,
            "grid_auto_flow": null,
            "grid_auto_rows": null,
            "grid_column": null,
            "grid_gap": null,
            "grid_row": null,
            "grid_template_areas": null,
            "grid_template_columns": null,
            "grid_template_rows": null,
            "height": null,
            "justify_content": null,
            "justify_items": null,
            "left": null,
            "margin": null,
            "max_height": null,
            "max_width": null,
            "min_height": null,
            "min_width": null,
            "object_fit": null,
            "object_position": null,
            "order": null,
            "overflow": null,
            "overflow_x": null,
            "overflow_y": null,
            "padding": null,
            "right": null,
            "top": null,
            "visibility": null,
            "width": null
          }
        },
        "119593f2ff29442c83f4701faa20f771": {
          "model_module": "@jupyter-widgets/controls",
          "model_name": "DescriptionStyleModel",
          "model_module_version": "1.5.0",
          "state": {
            "_model_module": "@jupyter-widgets/controls",
            "_model_module_version": "1.5.0",
            "_model_name": "DescriptionStyleModel",
            "_view_count": null,
            "_view_module": "@jupyter-widgets/base",
            "_view_module_version": "1.2.0",
            "_view_name": "StyleView",
            "description_width": ""
          }
        }
      }
    }
  },
  "cells": [
    {
      "cell_type": "code",
      "execution_count": 1,
      "metadata": {
        "id": "J4hL89evUzMq"
      },
      "outputs": [],
      "source": [
        "import pandas as pd\n",
        "import numpy as np\n",
        "\n",
        "from tqdm.auto import tqdm"
      ]
    },
    {
      "cell_type": "code",
      "source": [
        "df = pd.read_parquet('/content/drive/MyDrive/Structured_Data_Assignment/train.parquet')"
      ],
      "metadata": {
        "id": "csr0w87fU1L9"
      },
      "execution_count": 2,
      "outputs": []
    },
    {
      "cell_type": "code",
      "source": [
        "df"
      ],
      "metadata": {
        "colab": {
          "base_uri": "https://localhost:8080/",
          "height": 423
        },
        "id": "TB2FfO_MU1WO",
        "outputId": "7d480ed3-2226-4ff9-f1db-ac44601fe5f4"
      },
      "execution_count": 3,
      "outputs": [
        {
          "output_type": "execute_result",
          "data": {
            "text/plain": [
              "                                   Patient-Uid       Date           Incident\n",
              "0         a0db1e73-1c7c-11ec-ae39-16262ee38c7f 2019-03-09  PRIMARY_DIAGNOSIS\n",
              "1         a0dc93f2-1c7c-11ec-9cd2-16262ee38c7f 2015-05-16  PRIMARY_DIAGNOSIS\n",
              "3         a0dc94c6-1c7c-11ec-a3a0-16262ee38c7f 2018-01-30     SYMPTOM_TYPE_0\n",
              "4         a0dc950b-1c7c-11ec-b6ec-16262ee38c7f 2015-04-22        DRUG_TYPE_0\n",
              "8         a0dc9543-1c7c-11ec-bb63-16262ee38c7f 2016-06-18        DRUG_TYPE_1\n",
              "...                                        ...        ...                ...\n",
              "29080886  a0ee9f75-1c7c-11ec-94c7-16262ee38c7f 2018-07-06        DRUG_TYPE_6\n",
              "29080897  a0ee1284-1c7c-11ec-a3d5-16262ee38c7f 2017-12-29        DRUG_TYPE_6\n",
              "29080900  a0ee9b26-1c7c-11ec-8a40-16262ee38c7f 2018-10-18       DRUG_TYPE_10\n",
              "29080903  a0ee1a92-1c7c-11ec-8341-16262ee38c7f 2015-09-18        DRUG_TYPE_6\n",
              "29080911  a0ee146e-1c7c-11ec-baee-16262ee38c7f 2018-10-05        DRUG_TYPE_1\n",
              "\n",
              "[3220868 rows x 3 columns]"
            ],
            "text/html": [
              "\n",
              "  <div id=\"df-64e7acdc-7b0b-4468-bd01-242c2612df4f\">\n",
              "    <div class=\"colab-df-container\">\n",
              "      <div>\n",
              "<style scoped>\n",
              "    .dataframe tbody tr th:only-of-type {\n",
              "        vertical-align: middle;\n",
              "    }\n",
              "\n",
              "    .dataframe tbody tr th {\n",
              "        vertical-align: top;\n",
              "    }\n",
              "\n",
              "    .dataframe thead th {\n",
              "        text-align: right;\n",
              "    }\n",
              "</style>\n",
              "<table border=\"1\" class=\"dataframe\">\n",
              "  <thead>\n",
              "    <tr style=\"text-align: right;\">\n",
              "      <th></th>\n",
              "      <th>Patient-Uid</th>\n",
              "      <th>Date</th>\n",
              "      <th>Incident</th>\n",
              "    </tr>\n",
              "  </thead>\n",
              "  <tbody>\n",
              "    <tr>\n",
              "      <th>0</th>\n",
              "      <td>a0db1e73-1c7c-11ec-ae39-16262ee38c7f</td>\n",
              "      <td>2019-03-09</td>\n",
              "      <td>PRIMARY_DIAGNOSIS</td>\n",
              "    </tr>\n",
              "    <tr>\n",
              "      <th>1</th>\n",
              "      <td>a0dc93f2-1c7c-11ec-9cd2-16262ee38c7f</td>\n",
              "      <td>2015-05-16</td>\n",
              "      <td>PRIMARY_DIAGNOSIS</td>\n",
              "    </tr>\n",
              "    <tr>\n",
              "      <th>3</th>\n",
              "      <td>a0dc94c6-1c7c-11ec-a3a0-16262ee38c7f</td>\n",
              "      <td>2018-01-30</td>\n",
              "      <td>SYMPTOM_TYPE_0</td>\n",
              "    </tr>\n",
              "    <tr>\n",
              "      <th>4</th>\n",
              "      <td>a0dc950b-1c7c-11ec-b6ec-16262ee38c7f</td>\n",
              "      <td>2015-04-22</td>\n",
              "      <td>DRUG_TYPE_0</td>\n",
              "    </tr>\n",
              "    <tr>\n",
              "      <th>8</th>\n",
              "      <td>a0dc9543-1c7c-11ec-bb63-16262ee38c7f</td>\n",
              "      <td>2016-06-18</td>\n",
              "      <td>DRUG_TYPE_1</td>\n",
              "    </tr>\n",
              "    <tr>\n",
              "      <th>...</th>\n",
              "      <td>...</td>\n",
              "      <td>...</td>\n",
              "      <td>...</td>\n",
              "    </tr>\n",
              "    <tr>\n",
              "      <th>29080886</th>\n",
              "      <td>a0ee9f75-1c7c-11ec-94c7-16262ee38c7f</td>\n",
              "      <td>2018-07-06</td>\n",
              "      <td>DRUG_TYPE_6</td>\n",
              "    </tr>\n",
              "    <tr>\n",
              "      <th>29080897</th>\n",
              "      <td>a0ee1284-1c7c-11ec-a3d5-16262ee38c7f</td>\n",
              "      <td>2017-12-29</td>\n",
              "      <td>DRUG_TYPE_6</td>\n",
              "    </tr>\n",
              "    <tr>\n",
              "      <th>29080900</th>\n",
              "      <td>a0ee9b26-1c7c-11ec-8a40-16262ee38c7f</td>\n",
              "      <td>2018-10-18</td>\n",
              "      <td>DRUG_TYPE_10</td>\n",
              "    </tr>\n",
              "    <tr>\n",
              "      <th>29080903</th>\n",
              "      <td>a0ee1a92-1c7c-11ec-8341-16262ee38c7f</td>\n",
              "      <td>2015-09-18</td>\n",
              "      <td>DRUG_TYPE_6</td>\n",
              "    </tr>\n",
              "    <tr>\n",
              "      <th>29080911</th>\n",
              "      <td>a0ee146e-1c7c-11ec-baee-16262ee38c7f</td>\n",
              "      <td>2018-10-05</td>\n",
              "      <td>DRUG_TYPE_1</td>\n",
              "    </tr>\n",
              "  </tbody>\n",
              "</table>\n",
              "<p>3220868 rows × 3 columns</p>\n",
              "</div>\n",
              "      <button class=\"colab-df-convert\" onclick=\"convertToInteractive('df-64e7acdc-7b0b-4468-bd01-242c2612df4f')\"\n",
              "              title=\"Convert this dataframe to an interactive table.\"\n",
              "              style=\"display:none;\">\n",
              "        \n",
              "  <svg xmlns=\"http://www.w3.org/2000/svg\" height=\"24px\"viewBox=\"0 0 24 24\"\n",
              "       width=\"24px\">\n",
              "    <path d=\"M0 0h24v24H0V0z\" fill=\"none\"/>\n",
              "    <path d=\"M18.56 5.44l.94 2.06.94-2.06 2.06-.94-2.06-.94-.94-2.06-.94 2.06-2.06.94zm-11 1L8.5 8.5l.94-2.06 2.06-.94-2.06-.94L8.5 2.5l-.94 2.06-2.06.94zm10 10l.94 2.06.94-2.06 2.06-.94-2.06-.94-.94-2.06-.94 2.06-2.06.94z\"/><path d=\"M17.41 7.96l-1.37-1.37c-.4-.4-.92-.59-1.43-.59-.52 0-1.04.2-1.43.59L10.3 9.45l-7.72 7.72c-.78.78-.78 2.05 0 2.83L4 21.41c.39.39.9.59 1.41.59.51 0 1.02-.2 1.41-.59l7.78-7.78 2.81-2.81c.8-.78.8-2.07 0-2.86zM5.41 20L4 18.59l7.72-7.72 1.47 1.35L5.41 20z\"/>\n",
              "  </svg>\n",
              "      </button>\n",
              "      \n",
              "  <style>\n",
              "    .colab-df-container {\n",
              "      display:flex;\n",
              "      flex-wrap:wrap;\n",
              "      gap: 12px;\n",
              "    }\n",
              "\n",
              "    .colab-df-convert {\n",
              "      background-color: #E8F0FE;\n",
              "      border: none;\n",
              "      border-radius: 50%;\n",
              "      cursor: pointer;\n",
              "      display: none;\n",
              "      fill: #1967D2;\n",
              "      height: 32px;\n",
              "      padding: 0 0 0 0;\n",
              "      width: 32px;\n",
              "    }\n",
              "\n",
              "    .colab-df-convert:hover {\n",
              "      background-color: #E2EBFA;\n",
              "      box-shadow: 0px 1px 2px rgba(60, 64, 67, 0.3), 0px 1px 3px 1px rgba(60, 64, 67, 0.15);\n",
              "      fill: #174EA6;\n",
              "    }\n",
              "\n",
              "    [theme=dark] .colab-df-convert {\n",
              "      background-color: #3B4455;\n",
              "      fill: #D2E3FC;\n",
              "    }\n",
              "\n",
              "    [theme=dark] .colab-df-convert:hover {\n",
              "      background-color: #434B5C;\n",
              "      box-shadow: 0px 1px 3px 1px rgba(0, 0, 0, 0.15);\n",
              "      filter: drop-shadow(0px 1px 2px rgba(0, 0, 0, 0.3));\n",
              "      fill: #FFFFFF;\n",
              "    }\n",
              "  </style>\n",
              "\n",
              "      <script>\n",
              "        const buttonEl =\n",
              "          document.querySelector('#df-64e7acdc-7b0b-4468-bd01-242c2612df4f button.colab-df-convert');\n",
              "        buttonEl.style.display =\n",
              "          google.colab.kernel.accessAllowed ? 'block' : 'none';\n",
              "\n",
              "        async function convertToInteractive(key) {\n",
              "          const element = document.querySelector('#df-64e7acdc-7b0b-4468-bd01-242c2612df4f');\n",
              "          const dataTable =\n",
              "            await google.colab.kernel.invokeFunction('convertToInteractive',\n",
              "                                                     [key], {});\n",
              "          if (!dataTable) return;\n",
              "\n",
              "          const docLinkHtml = 'Like what you see? Visit the ' +\n",
              "            '<a target=\"_blank\" href=https://colab.research.google.com/notebooks/data_table.ipynb>data table notebook</a>'\n",
              "            + ' to learn more about interactive tables.';\n",
              "          element.innerHTML = '';\n",
              "          dataTable['output_type'] = 'display_data';\n",
              "          await google.colab.output.renderOutput(dataTable, element);\n",
              "          const docLink = document.createElement('div');\n",
              "          docLink.innerHTML = docLinkHtml;\n",
              "          element.appendChild(docLink);\n",
              "        }\n",
              "      </script>\n",
              "    </div>\n",
              "  </div>\n",
              "  "
            ]
          },
          "metadata": {},
          "execution_count": 3
        }
      ]
    },
    {
      "cell_type": "code",
      "source": [
        "df.reset_index()\n"
      ],
      "metadata": {
        "colab": {
          "base_uri": "https://localhost:8080/",
          "height": 641
        },
        "id": "aDYf_qycU1YC",
        "outputId": "ce047705-efbc-426e-8710-80a72eca9aa6"
      },
      "execution_count": 4,
      "outputs": [
        {
          "output_type": "execute_result",
          "data": {
            "text/plain": [
              "            index                           Patient-Uid       Date  \\\n",
              "0               0  a0db1e73-1c7c-11ec-ae39-16262ee38c7f 2019-03-09   \n",
              "1               1  a0dc93f2-1c7c-11ec-9cd2-16262ee38c7f 2015-05-16   \n",
              "2               3  a0dc94c6-1c7c-11ec-a3a0-16262ee38c7f 2018-01-30   \n",
              "3               4  a0dc950b-1c7c-11ec-b6ec-16262ee38c7f 2015-04-22   \n",
              "4               8  a0dc9543-1c7c-11ec-bb63-16262ee38c7f 2016-06-18   \n",
              "...           ...                                   ...        ...   \n",
              "3220863  29080886  a0ee9f75-1c7c-11ec-94c7-16262ee38c7f 2018-07-06   \n",
              "3220864  29080897  a0ee1284-1c7c-11ec-a3d5-16262ee38c7f 2017-12-29   \n",
              "3220865  29080900  a0ee9b26-1c7c-11ec-8a40-16262ee38c7f 2018-10-18   \n",
              "3220866  29080903  a0ee1a92-1c7c-11ec-8341-16262ee38c7f 2015-09-18   \n",
              "3220867  29080911  a0ee146e-1c7c-11ec-baee-16262ee38c7f 2018-10-05   \n",
              "\n",
              "                  Incident  \n",
              "0        PRIMARY_DIAGNOSIS  \n",
              "1        PRIMARY_DIAGNOSIS  \n",
              "2           SYMPTOM_TYPE_0  \n",
              "3              DRUG_TYPE_0  \n",
              "4              DRUG_TYPE_1  \n",
              "...                    ...  \n",
              "3220863        DRUG_TYPE_6  \n",
              "3220864        DRUG_TYPE_6  \n",
              "3220865       DRUG_TYPE_10  \n",
              "3220866        DRUG_TYPE_6  \n",
              "3220867        DRUG_TYPE_1  \n",
              "\n",
              "[3220868 rows x 4 columns]"
            ],
            "text/html": [
              "\n",
              "  <div id=\"df-5f6919c1-6a31-4313-b4fc-7726db4867e2\">\n",
              "    <div class=\"colab-df-container\">\n",
              "      <div>\n",
              "<style scoped>\n",
              "    .dataframe tbody tr th:only-of-type {\n",
              "        vertical-align: middle;\n",
              "    }\n",
              "\n",
              "    .dataframe tbody tr th {\n",
              "        vertical-align: top;\n",
              "    }\n",
              "\n",
              "    .dataframe thead th {\n",
              "        text-align: right;\n",
              "    }\n",
              "</style>\n",
              "<table border=\"1\" class=\"dataframe\">\n",
              "  <thead>\n",
              "    <tr style=\"text-align: right;\">\n",
              "      <th></th>\n",
              "      <th>index</th>\n",
              "      <th>Patient-Uid</th>\n",
              "      <th>Date</th>\n",
              "      <th>Incident</th>\n",
              "    </tr>\n",
              "  </thead>\n",
              "  <tbody>\n",
              "    <tr>\n",
              "      <th>0</th>\n",
              "      <td>0</td>\n",
              "      <td>a0db1e73-1c7c-11ec-ae39-16262ee38c7f</td>\n",
              "      <td>2019-03-09</td>\n",
              "      <td>PRIMARY_DIAGNOSIS</td>\n",
              "    </tr>\n",
              "    <tr>\n",
              "      <th>1</th>\n",
              "      <td>1</td>\n",
              "      <td>a0dc93f2-1c7c-11ec-9cd2-16262ee38c7f</td>\n",
              "      <td>2015-05-16</td>\n",
              "      <td>PRIMARY_DIAGNOSIS</td>\n",
              "    </tr>\n",
              "    <tr>\n",
              "      <th>2</th>\n",
              "      <td>3</td>\n",
              "      <td>a0dc94c6-1c7c-11ec-a3a0-16262ee38c7f</td>\n",
              "      <td>2018-01-30</td>\n",
              "      <td>SYMPTOM_TYPE_0</td>\n",
              "    </tr>\n",
              "    <tr>\n",
              "      <th>3</th>\n",
              "      <td>4</td>\n",
              "      <td>a0dc950b-1c7c-11ec-b6ec-16262ee38c7f</td>\n",
              "      <td>2015-04-22</td>\n",
              "      <td>DRUG_TYPE_0</td>\n",
              "    </tr>\n",
              "    <tr>\n",
              "      <th>4</th>\n",
              "      <td>8</td>\n",
              "      <td>a0dc9543-1c7c-11ec-bb63-16262ee38c7f</td>\n",
              "      <td>2016-06-18</td>\n",
              "      <td>DRUG_TYPE_1</td>\n",
              "    </tr>\n",
              "    <tr>\n",
              "      <th>...</th>\n",
              "      <td>...</td>\n",
              "      <td>...</td>\n",
              "      <td>...</td>\n",
              "      <td>...</td>\n",
              "    </tr>\n",
              "    <tr>\n",
              "      <th>3220863</th>\n",
              "      <td>29080886</td>\n",
              "      <td>a0ee9f75-1c7c-11ec-94c7-16262ee38c7f</td>\n",
              "      <td>2018-07-06</td>\n",
              "      <td>DRUG_TYPE_6</td>\n",
              "    </tr>\n",
              "    <tr>\n",
              "      <th>3220864</th>\n",
              "      <td>29080897</td>\n",
              "      <td>a0ee1284-1c7c-11ec-a3d5-16262ee38c7f</td>\n",
              "      <td>2017-12-29</td>\n",
              "      <td>DRUG_TYPE_6</td>\n",
              "    </tr>\n",
              "    <tr>\n",
              "      <th>3220865</th>\n",
              "      <td>29080900</td>\n",
              "      <td>a0ee9b26-1c7c-11ec-8a40-16262ee38c7f</td>\n",
              "      <td>2018-10-18</td>\n",
              "      <td>DRUG_TYPE_10</td>\n",
              "    </tr>\n",
              "    <tr>\n",
              "      <th>3220866</th>\n",
              "      <td>29080903</td>\n",
              "      <td>a0ee1a92-1c7c-11ec-8341-16262ee38c7f</td>\n",
              "      <td>2015-09-18</td>\n",
              "      <td>DRUG_TYPE_6</td>\n",
              "    </tr>\n",
              "    <tr>\n",
              "      <th>3220867</th>\n",
              "      <td>29080911</td>\n",
              "      <td>a0ee146e-1c7c-11ec-baee-16262ee38c7f</td>\n",
              "      <td>2018-10-05</td>\n",
              "      <td>DRUG_TYPE_1</td>\n",
              "    </tr>\n",
              "  </tbody>\n",
              "</table>\n",
              "<p>3220868 rows × 4 columns</p>\n",
              "</div>\n",
              "      <button class=\"colab-df-convert\" onclick=\"convertToInteractive('df-5f6919c1-6a31-4313-b4fc-7726db4867e2')\"\n",
              "              title=\"Convert this dataframe to an interactive table.\"\n",
              "              style=\"display:none;\">\n",
              "        \n",
              "  <svg xmlns=\"http://www.w3.org/2000/svg\" height=\"24px\"viewBox=\"0 0 24 24\"\n",
              "       width=\"24px\">\n",
              "    <path d=\"M0 0h24v24H0V0z\" fill=\"none\"/>\n",
              "    <path d=\"M18.56 5.44l.94 2.06.94-2.06 2.06-.94-2.06-.94-.94-2.06-.94 2.06-2.06.94zm-11 1L8.5 8.5l.94-2.06 2.06-.94-2.06-.94L8.5 2.5l-.94 2.06-2.06.94zm10 10l.94 2.06.94-2.06 2.06-.94-2.06-.94-.94-2.06-.94 2.06-2.06.94z\"/><path d=\"M17.41 7.96l-1.37-1.37c-.4-.4-.92-.59-1.43-.59-.52 0-1.04.2-1.43.59L10.3 9.45l-7.72 7.72c-.78.78-.78 2.05 0 2.83L4 21.41c.39.39.9.59 1.41.59.51 0 1.02-.2 1.41-.59l7.78-7.78 2.81-2.81c.8-.78.8-2.07 0-2.86zM5.41 20L4 18.59l7.72-7.72 1.47 1.35L5.41 20z\"/>\n",
              "  </svg>\n",
              "      </button>\n",
              "      \n",
              "  <style>\n",
              "    .colab-df-container {\n",
              "      display:flex;\n",
              "      flex-wrap:wrap;\n",
              "      gap: 12px;\n",
              "    }\n",
              "\n",
              "    .colab-df-convert {\n",
              "      background-color: #E8F0FE;\n",
              "      border: none;\n",
              "      border-radius: 50%;\n",
              "      cursor: pointer;\n",
              "      display: none;\n",
              "      fill: #1967D2;\n",
              "      height: 32px;\n",
              "      padding: 0 0 0 0;\n",
              "      width: 32px;\n",
              "    }\n",
              "\n",
              "    .colab-df-convert:hover {\n",
              "      background-color: #E2EBFA;\n",
              "      box-shadow: 0px 1px 2px rgba(60, 64, 67, 0.3), 0px 1px 3px 1px rgba(60, 64, 67, 0.15);\n",
              "      fill: #174EA6;\n",
              "    }\n",
              "\n",
              "    [theme=dark] .colab-df-convert {\n",
              "      background-color: #3B4455;\n",
              "      fill: #D2E3FC;\n",
              "    }\n",
              "\n",
              "    [theme=dark] .colab-df-convert:hover {\n",
              "      background-color: #434B5C;\n",
              "      box-shadow: 0px 1px 3px 1px rgba(0, 0, 0, 0.15);\n",
              "      filter: drop-shadow(0px 1px 2px rgba(0, 0, 0, 0.3));\n",
              "      fill: #FFFFFF;\n",
              "    }\n",
              "  </style>\n",
              "\n",
              "      <script>\n",
              "        const buttonEl =\n",
              "          document.querySelector('#df-5f6919c1-6a31-4313-b4fc-7726db4867e2 button.colab-df-convert');\n",
              "        buttonEl.style.display =\n",
              "          google.colab.kernel.accessAllowed ? 'block' : 'none';\n",
              "\n",
              "        async function convertToInteractive(key) {\n",
              "          const element = document.querySelector('#df-5f6919c1-6a31-4313-b4fc-7726db4867e2');\n",
              "          const dataTable =\n",
              "            await google.colab.kernel.invokeFunction('convertToInteractive',\n",
              "                                                     [key], {});\n",
              "          if (!dataTable) return;\n",
              "\n",
              "          const docLinkHtml = 'Like what you see? Visit the ' +\n",
              "            '<a target=\"_blank\" href=https://colab.research.google.com/notebooks/data_table.ipynb>data table notebook</a>'\n",
              "            + ' to learn more about interactive tables.';\n",
              "          element.innerHTML = '';\n",
              "          dataTable['output_type'] = 'display_data';\n",
              "          await google.colab.output.renderOutput(dataTable, element);\n",
              "          const docLink = document.createElement('div');\n",
              "          docLink.innerHTML = docLinkHtml;\n",
              "          element.appendChild(docLink);\n",
              "        }\n",
              "      </script>\n",
              "    </div>\n",
              "  </div>\n",
              "  "
            ]
          },
          "metadata": {},
          "execution_count": 4
        }
      ]
    },
    {
      "cell_type": "code",
      "source": [
        "df.shape"
      ],
      "metadata": {
        "colab": {
          "base_uri": "https://localhost:8080/"
        },
        "id": "Pg2bp0M9U1be",
        "outputId": "282c21cc-d16f-4bb6-be60-da58dc5606b6"
      },
      "execution_count": 5,
      "outputs": [
        {
          "output_type": "execute_result",
          "data": {
            "text/plain": [
              "(3220868, 3)"
            ]
          },
          "metadata": {},
          "execution_count": 5
        }
      ]
    },
    {
      "cell_type": "code",
      "source": [
        "df.isnull().sum()"
      ],
      "metadata": {
        "colab": {
          "base_uri": "https://localhost:8080/"
        },
        "id": "zkIzOyj3U1jI",
        "outputId": "5be983ce-2c72-42fa-c3e0-97f7d851cf07"
      },
      "execution_count": 6,
      "outputs": [
        {
          "output_type": "execute_result",
          "data": {
            "text/plain": [
              "Patient-Uid    0\n",
              "Date           0\n",
              "Incident       0\n",
              "dtype: int64"
            ]
          },
          "metadata": {},
          "execution_count": 6
        }
      ]
    },
    {
      "cell_type": "code",
      "source": [
        "df.info()"
      ],
      "metadata": {
        "colab": {
          "base_uri": "https://localhost:8080/"
        },
        "id": "4zhFLldYU1lL",
        "outputId": "2507989f-d7f9-438e-8ae5-90e02357ce49"
      },
      "execution_count": 7,
      "outputs": [
        {
          "output_type": "stream",
          "name": "stdout",
          "text": [
            "<class 'pandas.core.frame.DataFrame'>\n",
            "Int64Index: 3220868 entries, 0 to 29080911\n",
            "Data columns (total 3 columns):\n",
            " #   Column       Dtype         \n",
            "---  ------       -----         \n",
            " 0   Patient-Uid  object        \n",
            " 1   Date         datetime64[ns]\n",
            " 2   Incident     object        \n",
            "dtypes: datetime64[ns](1), object(2)\n",
            "memory usage: 98.3+ MB\n"
          ]
        }
      ]
    },
    {
      "cell_type": "code",
      "source": [],
      "metadata": {
        "id": "f84druNGU1pM"
      },
      "execution_count": 7,
      "outputs": []
    },
    {
      "cell_type": "markdown",
      "source": [
        "# FEATURE ENGINEERING\n",
        "UNIQUE PATIENTS LIST"
      ],
      "metadata": {
        "id": "JG4NgBtTXfnV"
      }
    },
    {
      "cell_type": "code",
      "source": [
        "unique_patients = df['Patient-Uid'].unique()"
      ],
      "metadata": {
        "id": "GG-XT7_YU1rA"
      },
      "execution_count": 8,
      "outputs": []
    },
    {
      "cell_type": "code",
      "source": [
        "unique_patients\n"
      ],
      "metadata": {
        "colab": {
          "base_uri": "https://localhost:8080/"
        },
        "id": "B-_GgzL0U1un",
        "outputId": "7e9e8048-4b2d-414f-e14b-0ae055b15c3a"
      },
      "execution_count": 9,
      "outputs": [
        {
          "output_type": "execute_result",
          "data": {
            "text/plain": [
              "array(['a0db1e73-1c7c-11ec-ae39-16262ee38c7f',\n",
              "       'a0dc93f2-1c7c-11ec-9cd2-16262ee38c7f',\n",
              "       'a0dc94c6-1c7c-11ec-a3a0-16262ee38c7f', ...,\n",
              "       'a0f0d523-1c7c-11ec-89d2-16262ee38c7f',\n",
              "       'a0f0d553-1c7c-11ec-a70a-16262ee38c7f',\n",
              "       'a0f0d582-1c7c-11ec-a6c1-16262ee38c7f'], dtype=object)"
            ]
          },
          "metadata": {},
          "execution_count": 9
        }
      ]
    },
    {
      "cell_type": "code",
      "source": [
        "# Total Patients\n",
        "df['Patient-Uid'].nunique()"
      ],
      "metadata": {
        "colab": {
          "base_uri": "https://localhost:8080/"
        },
        "id": "SpkgdPRdU1wl",
        "outputId": "2ecd7675-ca9a-47bb-910d-7b7d41cc2291"
      },
      "execution_count": 10,
      "outputs": [
        {
          "output_type": "execute_result",
          "data": {
            "text/plain": [
              "27033"
            ]
          },
          "metadata": {},
          "execution_count": 10
        }
      ]
    },
    {
      "cell_type": "code",
      "source": [
        "df['Incident'].unique()"
      ],
      "metadata": {
        "colab": {
          "base_uri": "https://localhost:8080/"
        },
        "id": "wmEqImMMU11h",
        "outputId": "3826c192-f4c2-464d-e280-be5b7549631e"
      },
      "execution_count": 11,
      "outputs": [
        {
          "output_type": "execute_result",
          "data": {
            "text/plain": [
              "array(['PRIMARY_DIAGNOSIS', 'SYMPTOM_TYPE_0', 'DRUG_TYPE_0',\n",
              "       'DRUG_TYPE_1', 'DRUG_TYPE_2', 'TEST_TYPE_0', 'DRUG_TYPE_3',\n",
              "       'DRUG_TYPE_4', 'DRUG_TYPE_5', 'DRUG_TYPE_6', 'DRUG_TYPE_8',\n",
              "       'DRUG_TYPE_7', 'SYMPTOM_TYPE_1', 'DRUG_TYPE_10', 'SYMPTOM_TYPE_29',\n",
              "       'SYMPTOM_TYPE_2', 'DRUG_TYPE_11', 'DRUG_TYPE_9', 'DRUG_TYPE_13',\n",
              "       'SYMPTOM_TYPE_5', 'TEST_TYPE_1', 'SYMPTOM_TYPE_6', 'TEST_TYPE_2',\n",
              "       'SYMPTOM_TYPE_3', 'SYMPTOM_TYPE_8', 'DRUG_TYPE_14', 'DRUG_TYPE_12',\n",
              "       'SYMPTOM_TYPE_9', 'SYMPTOM_TYPE_10', 'SYMPTOM_TYPE_7',\n",
              "       'SYMPTOM_TYPE_11', 'TEST_TYPE_3', 'DRUG_TYPE_15', 'SYMPTOM_TYPE_4',\n",
              "       'SYMPTOM_TYPE_14', 'SYMPTOM_TYPE_13', 'SYMPTOM_TYPE_16',\n",
              "       'SYMPTOM_TYPE_17', 'SYMPTOM_TYPE_15', 'SYMPTOM_TYPE_18',\n",
              "       'SYMPTOM_TYPE_12', 'SYMPTOM_TYPE_20', 'SYMPTOM_TYPE_21',\n",
              "       'DRUG_TYPE_17', 'SYMPTOM_TYPE_22', 'TEST_TYPE_4',\n",
              "       'SYMPTOM_TYPE_23', 'DRUG_TYPE_16', 'TEST_TYPE_5',\n",
              "       'SYMPTOM_TYPE_19', 'SYMPTOM_TYPE_24', 'SYMPTOM_TYPE_25',\n",
              "       'SYMPTOM_TYPE_26', 'SYMPTOM_TYPE_27', 'DRUG_TYPE_18',\n",
              "       'SYMPTOM_TYPE_28', 'TARGET DRUG'], dtype=object)"
            ]
          },
          "metadata": {},
          "execution_count": 11
        }
      ]
    },
    {
      "cell_type": "code",
      "source": [
        "df['Incident'].nunique()"
      ],
      "metadata": {
        "colab": {
          "base_uri": "https://localhost:8080/"
        },
        "id": "KUXw1OU-U13F",
        "outputId": "86aef0e3-b84c-4c23-b249-17388a8c1a10"
      },
      "execution_count": 12,
      "outputs": [
        {
          "output_type": "execute_result",
          "data": {
            "text/plain": [
              "57"
            ]
          },
          "metadata": {},
          "execution_count": 12
        }
      ]
    },
    {
      "cell_type": "code",
      "source": [
        "len(df['Patient-Uid'][df['Incident'] == 'TARGET DRUG'].unique())"
      ],
      "metadata": {
        "colab": {
          "base_uri": "https://localhost:8080/"
        },
        "id": "dY0cWPNvU17C",
        "outputId": "9c1cbb6d-a613-4e0b-c135-5c1bdd61a7b2"
      },
      "execution_count": 13,
      "outputs": [
        {
          "output_type": "execute_result",
          "data": {
            "text/plain": [
              "9374"
            ]
          },
          "metadata": {},
          "execution_count": 13
        }
      ]
    },
    {
      "cell_type": "code",
      "source": [
        "# list of patients who took the Target Drug\n",
        "pat_took_td = df['Patient-Uid'][df['Incident'] == 'TARGET DRUG'].unique()"
      ],
      "metadata": {
        "id": "cBAANZAYU183"
      },
      "execution_count": 14,
      "outputs": []
    },
    {
      "cell_type": "code",
      "source": [
        "pat_took_td"
      ],
      "metadata": {
        "colab": {
          "base_uri": "https://localhost:8080/"
        },
        "id": "_INHq_MdU2An",
        "outputId": "15c7a247-4681-4c65-ea7a-d0af865378fd"
      },
      "execution_count": 15,
      "outputs": [
        {
          "output_type": "execute_result",
          "data": {
            "text/plain": [
              "array(['a0eb742b-1c7c-11ec-8f61-16262ee38c7f',\n",
              "       'a0edaf09-1c7c-11ec-a360-16262ee38c7f',\n",
              "       'a0e9fa0e-1c7c-11ec-8dc7-16262ee38c7f', ...,\n",
              "       'a0ef1c8c-1c7c-11ec-b007-16262ee38c7f',\n",
              "       'a0f08a4d-1c7c-11ec-bb15-16262ee38c7f',\n",
              "       'a0efc1fa-1c7c-11ec-9e1c-16262ee38c7f'], dtype=object)"
            ]
          },
          "metadata": {},
          "execution_count": 15
        }
      ]
    },
    {
      "cell_type": "code",
      "source": [
        "df_pat_took_td = df[df['Patient-Uid'].isin(pat_took_td)].reset_index(drop=True)"
      ],
      "metadata": {
        "id": "CL9u48dTU2Cb"
      },
      "execution_count": 16,
      "outputs": []
    },
    {
      "cell_type": "code",
      "source": [
        "df_pat_took_td"
      ],
      "metadata": {
        "colab": {
          "base_uri": "https://localhost:8080/",
          "height": 423
        },
        "id": "UklCbNMTU2Gw",
        "outputId": "5a3a96f4-7dc8-43c8-8c01-8fb5851a4e0f"
      },
      "execution_count": 17,
      "outputs": [
        {
          "output_type": "execute_result",
          "data": {
            "text/plain": [
              "                                  Patient-Uid       Date           Incident\n",
              "0        a0e9c384-1c7c-11ec-81a0-16262ee38c7f 2018-02-22     SYMPTOM_TYPE_6\n",
              "1        a0e9c3b3-1c7c-11ec-ae8e-16262ee38c7f 2018-02-21     SYMPTOM_TYPE_6\n",
              "2        a0e9c3e3-1c7c-11ec-a8b9-16262ee38c7f 2017-05-11    SYMPTOM_TYPE_10\n",
              "3        a0e9c414-1c7c-11ec-889a-16262ee38c7f 2019-11-22  PRIMARY_DIAGNOSIS\n",
              "4        a0e9c443-1c7c-11ec-9eb0-16262ee38c7f 2020-01-28  PRIMARY_DIAGNOSIS\n",
              "...                                       ...        ...                ...\n",
              "1436784  a0ee9f75-1c7c-11ec-94c7-16262ee38c7f 2018-07-06        DRUG_TYPE_6\n",
              "1436785  a0ee1284-1c7c-11ec-a3d5-16262ee38c7f 2017-12-29        DRUG_TYPE_6\n",
              "1436786  a0ee9b26-1c7c-11ec-8a40-16262ee38c7f 2018-10-18       DRUG_TYPE_10\n",
              "1436787  a0ee1a92-1c7c-11ec-8341-16262ee38c7f 2015-09-18        DRUG_TYPE_6\n",
              "1436788  a0ee146e-1c7c-11ec-baee-16262ee38c7f 2018-10-05        DRUG_TYPE_1\n",
              "\n",
              "[1436789 rows x 3 columns]"
            ],
            "text/html": [
              "\n",
              "  <div id=\"df-af08c579-e750-4e32-92f0-f368330083c2\">\n",
              "    <div class=\"colab-df-container\">\n",
              "      <div>\n",
              "<style scoped>\n",
              "    .dataframe tbody tr th:only-of-type {\n",
              "        vertical-align: middle;\n",
              "    }\n",
              "\n",
              "    .dataframe tbody tr th {\n",
              "        vertical-align: top;\n",
              "    }\n",
              "\n",
              "    .dataframe thead th {\n",
              "        text-align: right;\n",
              "    }\n",
              "</style>\n",
              "<table border=\"1\" class=\"dataframe\">\n",
              "  <thead>\n",
              "    <tr style=\"text-align: right;\">\n",
              "      <th></th>\n",
              "      <th>Patient-Uid</th>\n",
              "      <th>Date</th>\n",
              "      <th>Incident</th>\n",
              "    </tr>\n",
              "  </thead>\n",
              "  <tbody>\n",
              "    <tr>\n",
              "      <th>0</th>\n",
              "      <td>a0e9c384-1c7c-11ec-81a0-16262ee38c7f</td>\n",
              "      <td>2018-02-22</td>\n",
              "      <td>SYMPTOM_TYPE_6</td>\n",
              "    </tr>\n",
              "    <tr>\n",
              "      <th>1</th>\n",
              "      <td>a0e9c3b3-1c7c-11ec-ae8e-16262ee38c7f</td>\n",
              "      <td>2018-02-21</td>\n",
              "      <td>SYMPTOM_TYPE_6</td>\n",
              "    </tr>\n",
              "    <tr>\n",
              "      <th>2</th>\n",
              "      <td>a0e9c3e3-1c7c-11ec-a8b9-16262ee38c7f</td>\n",
              "      <td>2017-05-11</td>\n",
              "      <td>SYMPTOM_TYPE_10</td>\n",
              "    </tr>\n",
              "    <tr>\n",
              "      <th>3</th>\n",
              "      <td>a0e9c414-1c7c-11ec-889a-16262ee38c7f</td>\n",
              "      <td>2019-11-22</td>\n",
              "      <td>PRIMARY_DIAGNOSIS</td>\n",
              "    </tr>\n",
              "    <tr>\n",
              "      <th>4</th>\n",
              "      <td>a0e9c443-1c7c-11ec-9eb0-16262ee38c7f</td>\n",
              "      <td>2020-01-28</td>\n",
              "      <td>PRIMARY_DIAGNOSIS</td>\n",
              "    </tr>\n",
              "    <tr>\n",
              "      <th>...</th>\n",
              "      <td>...</td>\n",
              "      <td>...</td>\n",
              "      <td>...</td>\n",
              "    </tr>\n",
              "    <tr>\n",
              "      <th>1436784</th>\n",
              "      <td>a0ee9f75-1c7c-11ec-94c7-16262ee38c7f</td>\n",
              "      <td>2018-07-06</td>\n",
              "      <td>DRUG_TYPE_6</td>\n",
              "    </tr>\n",
              "    <tr>\n",
              "      <th>1436785</th>\n",
              "      <td>a0ee1284-1c7c-11ec-a3d5-16262ee38c7f</td>\n",
              "      <td>2017-12-29</td>\n",
              "      <td>DRUG_TYPE_6</td>\n",
              "    </tr>\n",
              "    <tr>\n",
              "      <th>1436786</th>\n",
              "      <td>a0ee9b26-1c7c-11ec-8a40-16262ee38c7f</td>\n",
              "      <td>2018-10-18</td>\n",
              "      <td>DRUG_TYPE_10</td>\n",
              "    </tr>\n",
              "    <tr>\n",
              "      <th>1436787</th>\n",
              "      <td>a0ee1a92-1c7c-11ec-8341-16262ee38c7f</td>\n",
              "      <td>2015-09-18</td>\n",
              "      <td>DRUG_TYPE_6</td>\n",
              "    </tr>\n",
              "    <tr>\n",
              "      <th>1436788</th>\n",
              "      <td>a0ee146e-1c7c-11ec-baee-16262ee38c7f</td>\n",
              "      <td>2018-10-05</td>\n",
              "      <td>DRUG_TYPE_1</td>\n",
              "    </tr>\n",
              "  </tbody>\n",
              "</table>\n",
              "<p>1436789 rows × 3 columns</p>\n",
              "</div>\n",
              "      <button class=\"colab-df-convert\" onclick=\"convertToInteractive('df-af08c579-e750-4e32-92f0-f368330083c2')\"\n",
              "              title=\"Convert this dataframe to an interactive table.\"\n",
              "              style=\"display:none;\">\n",
              "        \n",
              "  <svg xmlns=\"http://www.w3.org/2000/svg\" height=\"24px\"viewBox=\"0 0 24 24\"\n",
              "       width=\"24px\">\n",
              "    <path d=\"M0 0h24v24H0V0z\" fill=\"none\"/>\n",
              "    <path d=\"M18.56 5.44l.94 2.06.94-2.06 2.06-.94-2.06-.94-.94-2.06-.94 2.06-2.06.94zm-11 1L8.5 8.5l.94-2.06 2.06-.94-2.06-.94L8.5 2.5l-.94 2.06-2.06.94zm10 10l.94 2.06.94-2.06 2.06-.94-2.06-.94-.94-2.06-.94 2.06-2.06.94z\"/><path d=\"M17.41 7.96l-1.37-1.37c-.4-.4-.92-.59-1.43-.59-.52 0-1.04.2-1.43.59L10.3 9.45l-7.72 7.72c-.78.78-.78 2.05 0 2.83L4 21.41c.39.39.9.59 1.41.59.51 0 1.02-.2 1.41-.59l7.78-7.78 2.81-2.81c.8-.78.8-2.07 0-2.86zM5.41 20L4 18.59l7.72-7.72 1.47 1.35L5.41 20z\"/>\n",
              "  </svg>\n",
              "      </button>\n",
              "      \n",
              "  <style>\n",
              "    .colab-df-container {\n",
              "      display:flex;\n",
              "      flex-wrap:wrap;\n",
              "      gap: 12px;\n",
              "    }\n",
              "\n",
              "    .colab-df-convert {\n",
              "      background-color: #E8F0FE;\n",
              "      border: none;\n",
              "      border-radius: 50%;\n",
              "      cursor: pointer;\n",
              "      display: none;\n",
              "      fill: #1967D2;\n",
              "      height: 32px;\n",
              "      padding: 0 0 0 0;\n",
              "      width: 32px;\n",
              "    }\n",
              "\n",
              "    .colab-df-convert:hover {\n",
              "      background-color: #E2EBFA;\n",
              "      box-shadow: 0px 1px 2px rgba(60, 64, 67, 0.3), 0px 1px 3px 1px rgba(60, 64, 67, 0.15);\n",
              "      fill: #174EA6;\n",
              "    }\n",
              "\n",
              "    [theme=dark] .colab-df-convert {\n",
              "      background-color: #3B4455;\n",
              "      fill: #D2E3FC;\n",
              "    }\n",
              "\n",
              "    [theme=dark] .colab-df-convert:hover {\n",
              "      background-color: #434B5C;\n",
              "      box-shadow: 0px 1px 3px 1px rgba(0, 0, 0, 0.15);\n",
              "      filter: drop-shadow(0px 1px 2px rgba(0, 0, 0, 0.3));\n",
              "      fill: #FFFFFF;\n",
              "    }\n",
              "  </style>\n",
              "\n",
              "      <script>\n",
              "        const buttonEl =\n",
              "          document.querySelector('#df-af08c579-e750-4e32-92f0-f368330083c2 button.colab-df-convert');\n",
              "        buttonEl.style.display =\n",
              "          google.colab.kernel.accessAllowed ? 'block' : 'none';\n",
              "\n",
              "        async function convertToInteractive(key) {\n",
              "          const element = document.querySelector('#df-af08c579-e750-4e32-92f0-f368330083c2');\n",
              "          const dataTable =\n",
              "            await google.colab.kernel.invokeFunction('convertToInteractive',\n",
              "                                                     [key], {});\n",
              "          if (!dataTable) return;\n",
              "\n",
              "          const docLinkHtml = 'Like what you see? Visit the ' +\n",
              "            '<a target=\"_blank\" href=https://colab.research.google.com/notebooks/data_table.ipynb>data table notebook</a>'\n",
              "            + ' to learn more about interactive tables.';\n",
              "          element.innerHTML = '';\n",
              "          dataTable['output_type'] = 'display_data';\n",
              "          await google.colab.output.renderOutput(dataTable, element);\n",
              "          const docLink = document.createElement('div');\n",
              "          docLink.innerHTML = docLinkHtml;\n",
              "          element.appendChild(docLink);\n",
              "        }\n",
              "      </script>\n",
              "    </div>\n",
              "  </div>\n",
              "  "
            ]
          },
          "metadata": {},
          "execution_count": 17
        }
      ]
    },
    {
      "cell_type": "markdown",
      "source": [
        "# DataFrame with patients who took 'TARGET DRUG' within next 30 days of the last Incident and removed data after 'TARGET DRUG' in each patients record\n",
        "Taking not exactly 30 days because if a patient is eligible within 30 days, he/she can also take 'TARGET DRUG in 30th day'\n",
        "\n",
        "Creating Class 1 list and removing data after 'TARGET DRUG' in each of the patients record"
      ],
      "metadata": {
        "id": "tcubACiuYHF1"
      }
    },
    {
      "cell_type": "code",
      "source": [
        "df_wod_af_td = pd.DataFrame(columns=['Patient-Uid', 'Date', 'Incident'])\n",
        "class_1_list = []\n",
        "\n",
        "for i in tqdm(pat_took_td):\n",
        "    \n",
        "    ## Considering each patients sorted records with date to find if the 'TARGET DRUG' is taken within 30 days of any incident\n",
        "    pat_rec_i = df[df['Patient-Uid'] == i].sort_values('Date')\n",
        "    \n",
        "    ## Finding the row of first occurence of 'TARGET DRUG'\n",
        "    ind_td = (pat_rec_i.Incident.values == 'TARGET DRUG').argmax()\n",
        "    \n",
        "    ## Finding no. of days between first occrence of 'TARGET DRUG' and the previous incident with date column\n",
        "    nfd_b_td_pi = int((pat_rec_i.iloc[ind_td-1, 1] - pat_rec_i.iloc[ind_td, 1]).days)\n",
        "    \n",
        "    # If no. of days between 'TARGET DRUG' and previous incident is within 30 days, add it to the class_1_list, else add it to the class_0_list\n",
        "    # When date compared to previous date, negative value will be produced. So -31 is used.\n",
        "    if (nfd_b_td_pi > -31):\n",
        "        class_1_list.append(i)\n",
        "    \n",
        "    # Creating dataframe without data after 'TARGET DRUG'\n",
        "    df_wod_af_td = pd.concat([df_wod_af_td, pat_rec_i[:ind_td]]).reset_index(drop=True)\n",
        "    \n",
        "\n",
        "# Patients dataFrame containing all the class-1 patients (who took 'TARGET DRUG' within 30 days of last incident)\n",
        "class_1_pat = pd.DataFrame(class_1_list, columns=['pat_c1'])\n",
        "\n",
        "# Concatinating both the patients details without 'TARGET DRUG' and the patients whose data after 'TARGET DRUG' is removed\n",
        "df_wo_con_td = df[~df['Patient-Uid'].isin(pat_took_td)].reset_index(drop=True)\n",
        "new_df = pd.concat([df_wod_af_td, df_wo_con_td])"
      ],
      "metadata": {
        "colab": {
          "base_uri": "https://localhost:8080/",
          "height": 49,
          "referenced_widgets": [
            "4b272abe05d6406dadf3d212a357d363",
            "cae04f03e23549f3976834d9ce679521",
            "664176aac14644ffa4ff5641e8967b12",
            "bf882f4bbb23444daad98dfbf4ffec81",
            "ec96f0fc3e1c4ff9959b03e9539f32f1",
            "85ab1d169c974312b879d3a4ed5c1e8d",
            "15f66e2cc4e142bb8904a56743812550",
            "267848fba377403e8d58370fb203e6db",
            "1124f41513324be899fc3eccbd5493dc",
            "2b54cf53fd70468f98df2969ca9e0bdd",
            "119593f2ff29442c83f4701faa20f771"
          ]
        },
        "id": "rdT59kPlU2I9",
        "outputId": "5b480471-a8de-4d69-f286-f77e7b53e4bb"
      },
      "execution_count": null,
      "outputs": [
        {
          "data": {
            "application/vnd.jupyter.widget-view+json": {
              "model_id": "4b272abe05d6406dadf3d212a357d363",
              "version_major": 2,
              "version_minor": 0
            },
            "text/plain": [
              "  0%|          | 0/9374 [00:00<?, ?it/s]"
            ]
          },
          "metadata": {},
          "output_type": "display_data"
        }
      ]
    },
    {
      "cell_type": "code",
      "source": [
        "# Below lines is used to save to class_1_df and new df\n",
        "\n",
        "class_1_pat = pd.DataFrame(class_1_list, columns=['pat_c1'])\n",
        "\n",
        "class_1_pat.to_csv('class_1_pat.csv', index=False)\n",
        "\n",
        "new_df.to_csv('new_df.csv', index=False)"
      ],
      "metadata": {
        "id": "UrAC1K_gU2Ow"
      },
      "execution_count": null,
      "outputs": []
    },
    {
      "cell_type": "code",
      "source": [],
      "metadata": {
        "id": "4VlDKH-eU2SO"
      },
      "execution_count": null,
      "outputs": []
    },
    {
      "cell_type": "code",
      "source": [],
      "metadata": {
        "id": "RVEDq1JeU2UQ"
      },
      "execution_count": null,
      "outputs": []
    },
    {
      "cell_type": "markdown",
      "source": [
        "\n",
        "\n",
        "# Patient id's who took 'TARGET DRUG' within 30 days of the last Incident"
      ],
      "metadata": {
        "id": "9ono_QiUYOzh"
      }
    },
    {
      "cell_type": "code",
      "source": [],
      "metadata": {
        "id": "KxAm5j4fU2Xq"
      },
      "execution_count": null,
      "outputs": []
    },
    {
      "cell_type": "code",
      "source": [
        "class_1_pat = pd.read_csv('class_1_pat.csv')\n",
        "class_1_pat.head()"
      ],
      "metadata": {
        "id": "j5EhJfWrU2Zi"
      },
      "execution_count": null,
      "outputs": []
    },
    {
      "cell_type": "code",
      "source": [
        "class_1_pat['pat_c1'].count()"
      ],
      "metadata": {
        "id": "ID2K-YcpU2dX"
      },
      "execution_count": null,
      "outputs": []
    },
    {
      "cell_type": "code",
      "source": [],
      "metadata": {
        "id": "5J9ojYrmYV6n"
      },
      "execution_count": null,
      "outputs": []
    },
    {
      "cell_type": "markdown",
      "source": [
        "# DataFrame containing only the necessary data for training the model"
      ],
      "metadata": {
        "id": "_JOskHjyYW8S"
      }
    },
    {
      "cell_type": "code",
      "source": [
        "new_df = pd.read_csv('new_df.csv')\n",
        "new_df"
      ],
      "metadata": {
        "id": "D5wEWKwgU2fD"
      },
      "execution_count": null,
      "outputs": []
    },
    {
      "cell_type": "markdown",
      "source": [
        "Checking if 'DRUG_TYPE_18' is present in the new_df because test.parquet does not contain any 'DRUG_TYPE_18'"
      ],
      "metadata": {
        "id": "wuQRGx08Yf3l"
      }
    },
    {
      "cell_type": "code",
      "source": [
        "new_df[new_df['Incident']=='DRUG_TYPE_18']"
      ],
      "metadata": {
        "id": "wzqLPysrU2ir"
      },
      "execution_count": null,
      "outputs": []
    },
    {
      "cell_type": "code",
      "source": [],
      "metadata": {
        "id": "IOKl-PHLU2k5"
      },
      "execution_count": null,
      "outputs": []
    },
    {
      "cell_type": "markdown",
      "source": [
        "Removing data that contains 'DRUG_TYPE_18' in the Incident column"
      ],
      "metadata": {
        "id": "9be2K3gHYuJk"
      }
    },
    {
      "cell_type": "code",
      "source": [
        "new_df.drop(new_df.index[(new_df['Incident'] == 'DRUG_TYPE_18')],axis=0,inplace=True)"
      ],
      "metadata": {
        "id": "yTIwcOsMYeoR"
      },
      "execution_count": null,
      "outputs": []
    },
    {
      "cell_type": "code",
      "source": [
        "new_df"
      ],
      "metadata": {
        "id": "oZXrDMkwYeQw"
      },
      "execution_count": null,
      "outputs": []
    },
    {
      "cell_type": "code",
      "source": [
        "new_df[new_df['Incident']=='DRUG_TYPE_18']"
      ],
      "metadata": {
        "id": "oxQViIU0Yo3y"
      },
      "execution_count": null,
      "outputs": []
    },
    {
      "cell_type": "code",
      "source": [
        "new_df.reset_index(drop=True)"
      ],
      "metadata": {
        "id": "abBL_1a-U2ol"
      },
      "execution_count": null,
      "outputs": []
    },
    {
      "cell_type": "code",
      "source": [
        "new_df.info()"
      ],
      "metadata": {
        "id": "xLpQyNOqU2rR"
      },
      "execution_count": null,
      "outputs": []
    },
    {
      "cell_type": "code",
      "source": [
        "new_df['Date'] = new_df['Date'].astype('datetime64[ns]')\n"
      ],
      "metadata": {
        "id": "90Wg7uaIU2v8"
      },
      "execution_count": null,
      "outputs": []
    },
    {
      "cell_type": "code",
      "source": [
        "new_df.info()"
      ],
      "metadata": {
        "id": "2gLCmeiiU2xz"
      },
      "execution_count": null,
      "outputs": []
    },
    {
      "cell_type": "code",
      "source": [
        "new_df.shape"
      ],
      "metadata": {
        "id": "EdxWvxf2U22p"
      },
      "execution_count": null,
      "outputs": []
    },
    {
      "cell_type": "code",
      "source": [],
      "metadata": {
        "id": "MJ_Eci9QU2-H"
      },
      "execution_count": null,
      "outputs": []
    },
    {
      "cell_type": "code",
      "source": [],
      "metadata": {
        "id": "c90s8PmYU3AA"
      },
      "execution_count": null,
      "outputs": []
    },
    {
      "cell_type": "markdown",
      "source": [
        "Removing data that contains 'DRUG_TYPE_18' in the Incident column"
      ],
      "metadata": {
        "id": "GnjK-vQFYx5N"
      }
    },
    {
      "cell_type": "code",
      "source": [
        "final_df = new_df[['Patient-Uid', 'Incident']].pivot_table(index='Patient-Uid', columns='Incident', aggfunc='size', fill_value=0).reset_index()\n",
        "final_df.columns.name = ''"
      ],
      "metadata": {
        "id": "W4MPtOJCU3D_"
      },
      "execution_count": null,
      "outputs": []
    },
    {
      "cell_type": "code",
      "source": [
        "final_df"
      ],
      "metadata": {
        "id": "FGyfZAJzU3OK"
      },
      "execution_count": null,
      "outputs": []
    },
    {
      "cell_type": "code",
      "source": [],
      "metadata": {
        "id": "01dYXOWXZPwI"
      },
      "execution_count": null,
      "outputs": []
    },
    {
      "cell_type": "markdown",
      "source": [
        "Adding 0 or 1 based on conditions given"
      ],
      "metadata": {
        "id": "rHXe0lVyY1o0"
      }
    },
    {
      "cell_type": "code",
      "source": [
        "target = final_df['Patient-Uid'].apply(lambda x: 1 if x in pat_took_td else 0).values.tolist()\n"
      ],
      "metadata": {
        "id": "dEMhYgCPZPyt"
      },
      "execution_count": null,
      "outputs": []
    },
    {
      "cell_type": "code",
      "source": [
        "final_df['Target'] = target"
      ],
      "metadata": {
        "id": "yoiTobwoZP2m"
      },
      "execution_count": null,
      "outputs": []
    },
    {
      "cell_type": "code",
      "source": [
        "final_df"
      ],
      "metadata": {
        "id": "RByZYPQZZP5W"
      },
      "execution_count": null,
      "outputs": []
    },
    {
      "cell_type": "code",
      "source": [],
      "metadata": {
        "id": "tnMYtA7aZQBA"
      },
      "execution_count": null,
      "outputs": []
    },
    {
      "cell_type": "code",
      "source": [
        "final_df['Target'][final_df['Patient-Uid'].isin(pat_took_td)].unique()"
      ],
      "metadata": {
        "id": "f0UYKJwnZQCy"
      },
      "execution_count": null,
      "outputs": []
    },
    {
      "cell_type": "code",
      "source": [
        "final_df"
      ],
      "metadata": {
        "id": "PNKhYU7W2BML"
      },
      "execution_count": null,
      "outputs": []
    },
    {
      "cell_type": "markdown",
      "source": [
        "Saving the final_df that is used to train the model"
      ],
      "metadata": {
        "id": "DlT0JI24Y6aa"
      }
    },
    {
      "cell_type": "code",
      "source": [
        "final_df.to_csv('final_df.csv', index=False)\n",
        " "
      ],
      "metadata": {
        "id": "QUYSM5mNZQG-"
      },
      "execution_count": null,
      "outputs": []
    },
    {
      "cell_type": "code",
      "source": [],
      "metadata": {
        "id": "EBdPqpB0ZQJ3"
      },
      "execution_count": null,
      "outputs": []
    }
  ]
}